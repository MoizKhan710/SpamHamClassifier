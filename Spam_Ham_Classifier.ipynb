{
 "cells": [
  {
   "cell_type": "markdown",
   "id": "46a2dd55",
   "metadata": {},
   "source": [
    "# Dataset Link: https://www.kaggle.com/datasets/shantanudhakadd/email-spam-detection-dataset-classification\n",
    "\n",
    "TO CLASSIFY THE MAIL AS SPAM OR HAM BY USING MACHINE LEARNING MODEL,AND GIVE THE BEST ACCURACY SCORE TO THE PROBLEMS."
   ]
  },
  {
   "cell_type": "code",
   "execution_count": 1,
   "id": "881666ec",
   "metadata": {},
   "outputs": [],
   "source": [
    "#Import the standard librarys\n",
    "import pandas as pd\n",
    "import numpy as np\n",
    "import matplotlib.pyplot as plt\n",
    "import seaborn as sns\n",
    "from sklearn.feature_extraction.text import TfidfVectorizer\n",
    "from sklearn.model_selection import train_test_split\n",
    "from sklearn.linear_model import LogisticRegression\n",
    "import re\n",
    "from textblob import TextBlob\n",
    "from nltk.tokenize.toktok import ToktokTokenizer\n",
    "import string\n",
    "import nltk\n",
    "from sklearn.metrics import accuracy_score,classification_report,confusion_matrix\n",
    "import spacy\n",
    "nlp = spacy.load('en_core_web_sm', disable=['ner'])\n",
    "import warnings\n",
    "warnings.filterwarnings('ignore')\n",
    "%matplotlib inline"
   ]
  },
  {
   "cell_type": "code",
   "execution_count": 2,
   "id": "149f449b",
   "metadata": {},
   "outputs": [
    {
     "data": {
      "text/html": [
       "<style type=\"text/css\">\n",
       "</style>\n",
       "<table id=\"T_fadee_\">\n",
       "  <thead>\n",
       "    <tr>\n",
       "      <th class=\"blank level0\" >&nbsp;</th>\n",
       "      <th class=\"col_heading level0 col0\" >v1</th>\n",
       "      <th class=\"col_heading level0 col1\" >v2</th>\n",
       "      <th class=\"col_heading level0 col2\" >Unnamed: 2</th>\n",
       "      <th class=\"col_heading level0 col3\" >Unnamed: 3</th>\n",
       "      <th class=\"col_heading level0 col4\" >Unnamed: 4</th>\n",
       "    </tr>\n",
       "  </thead>\n",
       "  <tbody>\n",
       "    <tr>\n",
       "      <th id=\"T_fadee_level0_row0\" class=\"row_heading level0 row0\" >0</th>\n",
       "      <td id=\"T_fadee_row0_col0\" class=\"data row0 col0\" >ham</td>\n",
       "      <td id=\"T_fadee_row0_col1\" class=\"data row0 col1\" >Go until jurong point, crazy.. Available only in bugis n great world la e buffet... Cine there got amore wat...</td>\n",
       "      <td id=\"T_fadee_row0_col2\" class=\"data row0 col2\" >nan</td>\n",
       "      <td id=\"T_fadee_row0_col3\" class=\"data row0 col3\" >nan</td>\n",
       "      <td id=\"T_fadee_row0_col4\" class=\"data row0 col4\" >nan</td>\n",
       "    </tr>\n",
       "    <tr>\n",
       "      <th id=\"T_fadee_level0_row1\" class=\"row_heading level0 row1\" >1</th>\n",
       "      <td id=\"T_fadee_row1_col0\" class=\"data row1 col0\" >ham</td>\n",
       "      <td id=\"T_fadee_row1_col1\" class=\"data row1 col1\" >Ok lar... Joking wif u oni...</td>\n",
       "      <td id=\"T_fadee_row1_col2\" class=\"data row1 col2\" >nan</td>\n",
       "      <td id=\"T_fadee_row1_col3\" class=\"data row1 col3\" >nan</td>\n",
       "      <td id=\"T_fadee_row1_col4\" class=\"data row1 col4\" >nan</td>\n",
       "    </tr>\n",
       "    <tr>\n",
       "      <th id=\"T_fadee_level0_row2\" class=\"row_heading level0 row2\" >2</th>\n",
       "      <td id=\"T_fadee_row2_col0\" class=\"data row2 col0\" >spam</td>\n",
       "      <td id=\"T_fadee_row2_col1\" class=\"data row2 col1\" >Free entry in 2 a wkly comp to win FA Cup final tkts 21st May 2005. Text FA to 87121 to receive entry question(std txt rate)T&C's apply 08452810075over18's</td>\n",
       "      <td id=\"T_fadee_row2_col2\" class=\"data row2 col2\" >nan</td>\n",
       "      <td id=\"T_fadee_row2_col3\" class=\"data row2 col3\" >nan</td>\n",
       "      <td id=\"T_fadee_row2_col4\" class=\"data row2 col4\" >nan</td>\n",
       "    </tr>\n",
       "    <tr>\n",
       "      <th id=\"T_fadee_level0_row3\" class=\"row_heading level0 row3\" >3</th>\n",
       "      <td id=\"T_fadee_row3_col0\" class=\"data row3 col0\" >ham</td>\n",
       "      <td id=\"T_fadee_row3_col1\" class=\"data row3 col1\" >U dun say so early hor... U c already then say...</td>\n",
       "      <td id=\"T_fadee_row3_col2\" class=\"data row3 col2\" >nan</td>\n",
       "      <td id=\"T_fadee_row3_col3\" class=\"data row3 col3\" >nan</td>\n",
       "      <td id=\"T_fadee_row3_col4\" class=\"data row3 col4\" >nan</td>\n",
       "    </tr>\n",
       "    <tr>\n",
       "      <th id=\"T_fadee_level0_row4\" class=\"row_heading level0 row4\" >4</th>\n",
       "      <td id=\"T_fadee_row4_col0\" class=\"data row4 col0\" >ham</td>\n",
       "      <td id=\"T_fadee_row4_col1\" class=\"data row4 col1\" >Nah I don't think he goes to usf, he lives around here though</td>\n",
       "      <td id=\"T_fadee_row4_col2\" class=\"data row4 col2\" >nan</td>\n",
       "      <td id=\"T_fadee_row4_col3\" class=\"data row4 col3\" >nan</td>\n",
       "      <td id=\"T_fadee_row4_col4\" class=\"data row4 col4\" >nan</td>\n",
       "    </tr>\n",
       "  </tbody>\n",
       "</table>\n"
      ],
      "text/plain": [
       "<pandas.io.formats.style.Styler at 0x268de3d76d0>"
      ]
     },
     "execution_count": 2,
     "metadata": {},
     "output_type": "execute_result"
    }
   ],
   "source": [
    "#Read the data uisng the pandas\n",
    "data=pd.read_csv('spam.csv',encoding=\"ISO-8859-1\")\n",
    "data.head().style.background_gradient(cmap='jet')"
   ]
  },
  {
   "cell_type": "code",
   "execution_count": 3,
   "id": "59610664",
   "metadata": {},
   "outputs": [
    {
     "data": {
      "text/plain": [
       "(5572, 5)"
      ]
     },
     "execution_count": 3,
     "metadata": {},
     "output_type": "execute_result"
    }
   ],
   "source": [
    "#data shape\n",
    "data.shape"
   ]
  },
  {
   "cell_type": "code",
   "execution_count": 4,
   "id": "cc89641e",
   "metadata": {},
   "outputs": [
    {
     "name": "stdout",
     "output_type": "stream",
     "text": [
      "<class 'pandas.core.frame.DataFrame'>\n",
      "RangeIndex: 5572 entries, 0 to 5571\n",
      "Data columns (total 5 columns):\n",
      " #   Column      Non-Null Count  Dtype \n",
      "---  ------      --------------  ----- \n",
      " 0   v1          5572 non-null   object\n",
      " 1   v2          5572 non-null   object\n",
      " 2   Unnamed: 2  50 non-null     object\n",
      " 3   Unnamed: 3  12 non-null     object\n",
      " 4   Unnamed: 4  6 non-null      object\n",
      "dtypes: object(5)\n",
      "memory usage: 217.8+ KB\n"
     ]
    }
   ],
   "source": [
    "#data information\n",
    "data.info()"
   ]
  },
  {
   "cell_type": "code",
   "execution_count": 5,
   "id": "d4f1949e",
   "metadata": {},
   "outputs": [
    {
     "data": {
      "text/plain": [
       "Index(['v1', 'v2', 'Unnamed: 2', 'Unnamed: 3', 'Unnamed: 4'], dtype='object')"
      ]
     },
     "execution_count": 5,
     "metadata": {},
     "output_type": "execute_result"
    }
   ],
   "source": [
    "#data columns\n",
    "data.columns"
   ]
  },
  {
   "cell_type": "markdown",
   "id": "c584c2ee",
   "metadata": {},
   "source": [
    "# DataPrepocessing"
   ]
  },
  {
   "cell_type": "code",
   "execution_count": 6,
   "id": "dddc2ec6",
   "metadata": {},
   "outputs": [
    {
     "data": {
      "text/plain": [
       "v1               0\n",
       "v2               0\n",
       "Unnamed: 2    5522\n",
       "Unnamed: 3    5560\n",
       "Unnamed: 4    5566\n",
       "dtype: int64"
      ]
     },
     "execution_count": 6,
     "metadata": {},
     "output_type": "execute_result"
    }
   ],
   "source": [
    "#Check the null the values in the dataset\n",
    "data.isna().sum()"
   ]
  },
  {
   "cell_type": "code",
   "execution_count": 7,
   "id": "0d8338a1",
   "metadata": {},
   "outputs": [
    {
     "data": {
      "text/html": [
       "<div>\n",
       "<style scoped>\n",
       "    .dataframe tbody tr th:only-of-type {\n",
       "        vertical-align: middle;\n",
       "    }\n",
       "\n",
       "    .dataframe tbody tr th {\n",
       "        vertical-align: top;\n",
       "    }\n",
       "\n",
       "    .dataframe thead th {\n",
       "        text-align: right;\n",
       "    }\n",
       "</style>\n",
       "<table border=\"1\" class=\"dataframe\">\n",
       "  <thead>\n",
       "    <tr style=\"text-align: right;\">\n",
       "      <th></th>\n",
       "      <th>v1</th>\n",
       "      <th>v2</th>\n",
       "    </tr>\n",
       "  </thead>\n",
       "  <tbody>\n",
       "    <tr>\n",
       "      <th>0</th>\n",
       "      <td>ham</td>\n",
       "      <td>Go until jurong point, crazy.. Available only ...</td>\n",
       "    </tr>\n",
       "    <tr>\n",
       "      <th>1</th>\n",
       "      <td>ham</td>\n",
       "      <td>Ok lar... Joking wif u oni...</td>\n",
       "    </tr>\n",
       "    <tr>\n",
       "      <th>2</th>\n",
       "      <td>spam</td>\n",
       "      <td>Free entry in 2 a wkly comp to win FA Cup fina...</td>\n",
       "    </tr>\n",
       "    <tr>\n",
       "      <th>3</th>\n",
       "      <td>ham</td>\n",
       "      <td>U dun say so early hor... U c already then say...</td>\n",
       "    </tr>\n",
       "    <tr>\n",
       "      <th>4</th>\n",
       "      <td>ham</td>\n",
       "      <td>Nah I don't think he goes to usf, he lives aro...</td>\n",
       "    </tr>\n",
       "  </tbody>\n",
       "</table>\n",
       "</div>"
      ],
      "text/plain": [
       "     v1                                                 v2\n",
       "0   ham  Go until jurong point, crazy.. Available only ...\n",
       "1   ham                      Ok lar... Joking wif u oni...\n",
       "2  spam  Free entry in 2 a wkly comp to win FA Cup fina...\n",
       "3   ham  U dun say so early hor... U c already then say...\n",
       "4   ham  Nah I don't think he goes to usf, he lives aro..."
      ]
     },
     "execution_count": 7,
     "metadata": {},
     "output_type": "execute_result"
    }
   ],
   "source": [
    "#Remove the unwanted columns\n",
    "data.drop(['Unnamed: 2','Unnamed: 3','Unnamed: 4'],axis=1,inplace=True)\n",
    "data.head()"
   ]
  },
  {
   "cell_type": "code",
   "execution_count": 8,
   "id": "aa1277a8",
   "metadata": {},
   "outputs": [
    {
     "data": {
      "text/html": [
       "<div>\n",
       "<style scoped>\n",
       "    .dataframe tbody tr th:only-of-type {\n",
       "        vertical-align: middle;\n",
       "    }\n",
       "\n",
       "    .dataframe tbody tr th {\n",
       "        vertical-align: top;\n",
       "    }\n",
       "\n",
       "    .dataframe thead th {\n",
       "        text-align: right;\n",
       "    }\n",
       "</style>\n",
       "<table border=\"1\" class=\"dataframe\">\n",
       "  <thead>\n",
       "    <tr style=\"text-align: right;\">\n",
       "      <th></th>\n",
       "      <th>label</th>\n",
       "      <th>text</th>\n",
       "    </tr>\n",
       "  </thead>\n",
       "  <tbody>\n",
       "    <tr>\n",
       "      <th>0</th>\n",
       "      <td>ham</td>\n",
       "      <td>Go until jurong point, crazy.. Available only ...</td>\n",
       "    </tr>\n",
       "    <tr>\n",
       "      <th>1</th>\n",
       "      <td>ham</td>\n",
       "      <td>Ok lar... Joking wif u oni...</td>\n",
       "    </tr>\n",
       "    <tr>\n",
       "      <th>2</th>\n",
       "      <td>spam</td>\n",
       "      <td>Free entry in 2 a wkly comp to win FA Cup fina...</td>\n",
       "    </tr>\n",
       "    <tr>\n",
       "      <th>3</th>\n",
       "      <td>ham</td>\n",
       "      <td>U dun say so early hor... U c already then say...</td>\n",
       "    </tr>\n",
       "    <tr>\n",
       "      <th>4</th>\n",
       "      <td>ham</td>\n",
       "      <td>Nah I don't think he goes to usf, he lives aro...</td>\n",
       "    </tr>\n",
       "  </tbody>\n",
       "</table>\n",
       "</div>"
      ],
      "text/plain": [
       "  label                                               text\n",
       "0   ham  Go until jurong point, crazy.. Available only ...\n",
       "1   ham                      Ok lar... Joking wif u oni...\n",
       "2  spam  Free entry in 2 a wkly comp to win FA Cup fina...\n",
       "3   ham  U dun say so early hor... U c already then say...\n",
       "4   ham  Nah I don't think he goes to usf, he lives aro..."
      ]
     },
     "execution_count": 8,
     "metadata": {},
     "output_type": "execute_result"
    }
   ],
   "source": [
    "#Rename the columns\n",
    "data.rename(columns={'v1':'label','v2':'text'},inplace=True)\n",
    "data.head()"
   ]
  },
  {
   "cell_type": "code",
   "execution_count": 9,
   "id": "8cdb87df",
   "metadata": {},
   "outputs": [
    {
     "data": {
      "text/plain": [
       "Text(0.5, 1.0, 'The label percentage in dataset')"
      ]
     },
     "execution_count": 9,
     "metadata": {},
     "output_type": "execute_result"
    },
    {
     "data": {
      "image/png": "[encoded data removed]",
      "text/plain": [
       "<Figure size 1296x432 with 1 Axes>"
      ]
     },
     "metadata": {},
     "output_type": "display_data"
    }
   ],
   "source": [
    "#to visuaize the label percentage in the train dataset\n",
    "label=data['label'].value_counts()\n",
    "#to visualize the above information in the pie chart\n",
    "plt.figure(figsize=(18,6))\n",
    "plt.pie(label,labels=['ham','spam'],colors=['blue','maroon'],autopct='%1.1f%%',explode=[0.2,0.3])\n",
    "#set the title name with fontsize \n",
    "plt.title(\"The label percentage in dataset\",fontsize=32)"
   ]
  },
  {
   "cell_type": "code",
   "execution_count": 10,
   "id": "b62ec33a",
   "metadata": {},
   "outputs": [],
   "source": [
    "#Creat the function and remove the punctuation\n",
    "def remove_punctuation(text):\n",
    "    for punctuation in string.punctuation:\n",
    "        text=text.replace(punctuation,'')\n",
    "    return text\n",
    "#And apply function to the train dataset\n",
    "data['text']=data['text'].apply(remove_punctuation)"
   ]
  },
  {
   "cell_type": "code",
   "execution_count": 11,
   "id": "b010097b",
   "metadata": {},
   "outputs": [
    {
     "name": "stderr",
     "output_type": "stream",
     "text": [
      "[nltk_data] Downloading package stopwords to\n",
      "[nltk_data]     C:\\Users\\moizk\\AppData\\Roaming\\nltk_data...\n",
      "[nltk_data]   Package stopwords is already up-to-date!\n"
     ]
    },
    {
     "data": {
      "text/plain": [
       "True"
      ]
     },
     "execution_count": 11,
     "metadata": {},
     "output_type": "execute_result"
    }
   ],
   "source": [
    "import nltk\n",
    "nltk.download('stopwords')"
   ]
  },
  {
   "cell_type": "code",
   "execution_count": 12,
   "id": "a2c738b3",
   "metadata": {},
   "outputs": [],
   "source": [
    "#create the remove the stopwords\n",
    "stop_words_list=nltk.corpus.stopwords.words('english')\n",
    "stop_words_list.remove('no')\n",
    "stop_words_list.remove('not')"
   ]
  },
  {
   "cell_type": "code",
   "execution_count": 13,
   "id": "e53ef8ee",
   "metadata": {},
   "outputs": [],
   "source": [
    "#install the tokeninzer\n",
    "tokenizer = ToktokTokenizer()\n",
    "#Create function to remove the stopwords\n",
    "def remove_stopwords(text,is_lower_case=True):\n",
    "    tokens=tokenizer.tokenize(text)\n",
    "    tokens=[token.strip() for token in tokens]\n",
    "    if is_lower_case:\n",
    "        filterd_tokens=[token for token in tokens if token not in stop_words_list]\n",
    "    else:\n",
    "        filterd_tokens=[token for token in tokens if token.lower() not in stop_words_list]\n",
    "    filterd_text=' '.join(filterd_tokens)\n",
    "    return filterd_text\n",
    "data['text']=data['text'].apply(remove_stopwords)"
   ]
  },
  {
   "cell_type": "code",
   "execution_count": 14,
   "id": "74827245",
   "metadata": {},
   "outputs": [
    {
     "data": {
      "text/html": [
       "<style type=\"text/css\">\n",
       "</style>\n",
       "<table id=\"T_c5d01_\">\n",
       "  <thead>\n",
       "    <tr>\n",
       "      <th class=\"blank level0\" >&nbsp;</th>\n",
       "      <th class=\"col_heading level0 col0\" >label</th>\n",
       "      <th class=\"col_heading level0 col1\" >text</th>\n",
       "    </tr>\n",
       "  </thead>\n",
       "  <tbody>\n",
       "    <tr>\n",
       "      <th id=\"T_c5d01_level0_row0\" class=\"row_heading level0 row0\" >0</th>\n",
       "      <td id=\"T_c5d01_row0_col0\" class=\"data row0 col0\" >ham</td>\n",
       "      <td id=\"T_c5d01_row0_col1\" class=\"data row0 col1\" >Go jurong point crazy Available bugis n great world la e buffet Cine got amore wat</td>\n",
       "    </tr>\n",
       "    <tr>\n",
       "      <th id=\"T_c5d01_level0_row1\" class=\"row_heading level0 row1\" >1</th>\n",
       "      <td id=\"T_c5d01_row1_col0\" class=\"data row1 col0\" >ham</td>\n",
       "      <td id=\"T_c5d01_row1_col1\" class=\"data row1 col1\" >Ok lar Joking wif u oni</td>\n",
       "    </tr>\n",
       "    <tr>\n",
       "      <th id=\"T_c5d01_level0_row2\" class=\"row_heading level0 row2\" >2</th>\n",
       "      <td id=\"T_c5d01_row2_col0\" class=\"data row2 col0\" >spam</td>\n",
       "      <td id=\"T_c5d01_row2_col1\" class=\"data row2 col1\" >Free entry 2 wkly comp win FA Cup final tkts 21st May 2005 Text FA 87121 receive entry questionstd txt rateTCs apply 08452810075over18s</td>\n",
       "    </tr>\n",
       "    <tr>\n",
       "      <th id=\"T_c5d01_level0_row3\" class=\"row_heading level0 row3\" >3</th>\n",
       "      <td id=\"T_c5d01_row3_col0\" class=\"data row3 col0\" >ham</td>\n",
       "      <td id=\"T_c5d01_row3_col1\" class=\"data row3 col1\" >U dun say early hor U c already say</td>\n",
       "    </tr>\n",
       "    <tr>\n",
       "      <th id=\"T_c5d01_level0_row4\" class=\"row_heading level0 row4\" >4</th>\n",
       "      <td id=\"T_c5d01_row4_col0\" class=\"data row4 col0\" >ham</td>\n",
       "      <td id=\"T_c5d01_row4_col1\" class=\"data row4 col1\" >Nah I dont think goes usf lives around though</td>\n",
       "    </tr>\n",
       "  </tbody>\n",
       "</table>\n"
      ],
      "text/plain": [
       "<pandas.io.formats.style.Styler at 0x2689233e310>"
      ]
     },
     "execution_count": 14,
     "metadata": {},
     "output_type": "execute_result"
    }
   ],
   "source": [
    "#remove the special characters\n",
    "def remove_special_characters(text):\n",
    "    text=re.sub('[^a-zA-z0-9\\s]','',text)\n",
    "    return text\n",
    "data['text']=data['text'].apply(remove_stopwords)\n",
    "data.head().style.background_gradient(cmap='jet')"
   ]
  },
  {
   "cell_type": "code",
   "execution_count": 15,
   "id": "8c1bfdba",
   "metadata": {},
   "outputs": [],
   "source": [
    "#Remove html patterns\n",
    "def remove_html(text):\n",
    "    html_pattran=re.compile('<.*?>')\n",
    "    return html_pattran.sub(r' ',text)\n",
    "#And apply the above function to the train data\n",
    "data['text']=data['text'].apply(remove_html)"
   ]
  },
  {
   "cell_type": "code",
   "execution_count": 16,
   "id": "3b67474a",
   "metadata": {},
   "outputs": [],
   "source": [
    "#Remove the html url from the train dataset\n",
    "def remove_url(text):\n",
    "    url=re.compile(r'https?://\\S+|www\\.\\S+')\n",
    "    return url.sub(r' ',text)\n",
    "#And apply to the train dataset\n",
    "data['text']=data['text'].apply(remove_url)"
   ]
  },
  {
   "cell_type": "code",
   "execution_count": 17,
   "id": "6f0c3333",
   "metadata": {},
   "outputs": [],
   "source": [
    "#Remove the numbers in the dataset\n",
    "def remove_numbers(text):\n",
    "    text=''.join([i for i in text if  not i.isdigit()])\n",
    "    return text\n",
    "#And apply the above function to the train data\n",
    "data['text']=data['text'].apply(remove_numbers)"
   ]
  },
  {
   "cell_type": "code",
   "execution_count": 18,
   "id": "a71911f7",
   "metadata": {},
   "outputs": [],
   "source": [
    "def cleanse(word):\n",
    "    rx=re.compile(r'\\D*\\d')\n",
    "    if rx.match(word):\n",
    "        return ' '\n",
    "    return word\n",
    "#Remove the alpha numaric\n",
    "def alpha_numeric(strings):\n",
    "    nstrings=[\" \".join(filter(None,(cleanse(word) for word in string.split()))) for string in strings.split()]\n",
    "    str1=\" \".join(nstrings)\n",
    "    return str1\n",
    "#Apply to the above function to the train dataset\n",
    "data['text']=data['text'].apply(alpha_numeric)"
   ]
  },
  {
   "cell_type": "code",
   "execution_count": 19,
   "id": "dce8fcf8",
   "metadata": {},
   "outputs": [],
   "source": [
    "#lemmatizer\n",
    "def lemmatize(text):\n",
    "    text=nlp(text)\n",
    "    text=\" \".join([word.lemma_ if word.lemma_!='-PRON-' else word for word in text])\n",
    "    return text\n",
    "#Apply the above function to the rain dataset\n",
    "data['text']=data['text'].apply(lemmatize)"
   ]
  },
  {
   "cell_type": "code",
   "execution_count": 20,
   "id": "a0c360d2",
   "metadata": {},
   "outputs": [
    {
     "data": {
      "text/html": [
       "<style type=\"text/css\">\n",
       "</style>\n",
       "<table id=\"T_7aa66_\">\n",
       "  <thead>\n",
       "    <tr>\n",
       "      <th class=\"blank level0\" >&nbsp;</th>\n",
       "      <th class=\"col_heading level0 col0\" >label</th>\n",
       "      <th class=\"col_heading level0 col1\" >text</th>\n",
       "    </tr>\n",
       "  </thead>\n",
       "  <tbody>\n",
       "    <tr>\n",
       "      <th id=\"T_7aa66_level0_row0\" class=\"row_heading level0 row0\" >0</th>\n",
       "      <td id=\"T_7aa66_row0_col0\" class=\"data row0 col0\" >ham</td>\n",
       "      <td id=\"T_7aa66_row0_col1\" class=\"data row0 col1\" >go jurong point crazy Available bugis n great world la e buffet Cine get amore wat</td>\n",
       "    </tr>\n",
       "    <tr>\n",
       "      <th id=\"T_7aa66_level0_row1\" class=\"row_heading level0 row1\" >1</th>\n",
       "      <td id=\"T_7aa66_row1_col0\" class=\"data row1 col0\" >ham</td>\n",
       "      <td id=\"T_7aa66_row1_col1\" class=\"data row1 col1\" >ok lar Joking wif u oni</td>\n",
       "    </tr>\n",
       "    <tr>\n",
       "      <th id=\"T_7aa66_level0_row2\" class=\"row_heading level0 row2\" >2</th>\n",
       "      <td id=\"T_7aa66_row2_col0\" class=\"data row2 col0\" >spam</td>\n",
       "      <td id=\"T_7aa66_row2_col1\" class=\"data row2 col1\" >free entry wkly comp win FA Cup final tkts st May Text FA receive entry questionstd txt ratetcs apply over</td>\n",
       "    </tr>\n",
       "    <tr>\n",
       "      <th id=\"T_7aa66_level0_row3\" class=\"row_heading level0 row3\" >3</th>\n",
       "      <td id=\"T_7aa66_row3_col0\" class=\"data row3 col0\" >ham</td>\n",
       "      <td id=\"T_7aa66_row3_col1\" class=\"data row3 col1\" >U dun say early hor U c already say</td>\n",
       "    </tr>\n",
       "    <tr>\n",
       "      <th id=\"T_7aa66_level0_row4\" class=\"row_heading level0 row4\" >4</th>\n",
       "      <td id=\"T_7aa66_row4_col0\" class=\"data row4 col0\" >ham</td>\n",
       "      <td id=\"T_7aa66_row4_col1\" class=\"data row4 col1\" >Nah I do not think go usf live around though</td>\n",
       "    </tr>\n",
       "    <tr>\n",
       "      <th id=\"T_7aa66_level0_row5\" class=\"row_heading level0 row5\" >5</th>\n",
       "      <td id=\"T_7aa66_row5_col0\" class=\"data row5 col0\" >spam</td>\n",
       "      <td id=\"T_7aa66_row5_col1\" class=\"data row5 col1\" >FreeMsg hey darle week no word back I d like fun still tb ok XxX std chgs send å£ rcv</td>\n",
       "    </tr>\n",
       "    <tr>\n",
       "      <th id=\"T_7aa66_level0_row6\" class=\"row_heading level0 row6\" >6</th>\n",
       "      <td id=\"T_7aa66_row6_col0\" class=\"data row6 col0\" >ham</td>\n",
       "      <td id=\"T_7aa66_row6_col1\" class=\"data row6 col1\" >even brother not like speak they treat like aids patent</td>\n",
       "    </tr>\n",
       "    <tr>\n",
       "      <th id=\"T_7aa66_level0_row7\" class=\"row_heading level0 row7\" >7</th>\n",
       "      <td id=\"T_7aa66_row7_col0\" class=\"data row7 col0\" >ham</td>\n",
       "      <td id=\"T_7aa66_row7_col1\" class=\"data row7 col1\" >as per request Melle Melle Oru Minnaminunginte Nurungu Vettam set callertune Callers Press copy friend Callertune</td>\n",
       "    </tr>\n",
       "    <tr>\n",
       "      <th id=\"T_7aa66_level0_row8\" class=\"row_heading level0 row8\" >8</th>\n",
       "      <td id=\"T_7aa66_row8_col0\" class=\"data row8 col0\" >spam</td>\n",
       "      <td id=\"T_7aa66_row8_col1\" class=\"data row8 col1\" >WINNER as value network customer select receivea å£ prize reward to claim call Claim code KL Valid hour</td>\n",
       "    </tr>\n",
       "    <tr>\n",
       "      <th id=\"T_7aa66_level0_row9\" class=\"row_heading level0 row9\" >9</th>\n",
       "      <td id=\"T_7aa66_row9_col0\" class=\"data row9 col0\" >spam</td>\n",
       "      <td id=\"T_7aa66_row9_col1\" class=\"data row9 col1\" >have mobile month U r entitle Update late colour mobile camera Free Call the Mobile Update Co FREE</td>\n",
       "    </tr>\n",
       "    <tr>\n",
       "      <th id=\"T_7aa66_level0_row10\" class=\"row_heading level0 row10\" >10</th>\n",
       "      <td id=\"T_7aa66_row10_col0\" class=\"data row10 col0\" >ham</td>\n",
       "      <td id=\"T_7aa66_row10_col1\" class=\"data row10 col1\" >I m go to home soon do not want talk stuff anymore tonight k I ve cry enough today</td>\n",
       "    </tr>\n",
       "  </tbody>\n",
       "</table>\n"
      ],
      "text/plain": [
       "<pandas.io.formats.style.Styler at 0x268923571f0>"
      ]
     },
     "execution_count": 20,
     "metadata": {},
     "output_type": "execute_result"
    }
   ],
   "source": [
    "data.head(11).style.background_gradient(cmap='Reds')"
   ]
  },
  {
   "cell_type": "code",
   "execution_count": 21,
   "id": "ebe51d87",
   "metadata": {},
   "outputs": [
    {
     "data": {
      "text/plain": [
       "'six chance win cash from pound txt CSH send Cost pday day TsandCs apply Reply hl info'"
      ]
     },
     "execution_count": 21,
     "metadata": {},
     "output_type": "execute_result"
    }
   ],
   "source": [
    "data['text'][11]"
   ]
  },
  {
   "cell_type": "markdown",
   "id": "47335c25",
   "metadata": {},
   "source": [
    "# Modeling"
   ]
  },
  {
   "cell_type": "code",
   "execution_count": 22,
   "id": "e3799fed",
   "metadata": {},
   "outputs": [],
   "source": [
    "#Divided the data into X and y\n",
    "X=data['text'].values\n",
    "y=data['label'].values"
   ]
  },
  {
   "cell_type": "code",
   "execution_count": 23,
   "id": "bd25dd8f",
   "metadata": {},
   "outputs": [],
   "source": [
    "#Install the TfidfVectorizer for covert the categorical data to array\n",
    "vector=TfidfVectorizer()\n",
    "vector.fit(X)\n",
    "X=vector.transform(X)"
   ]
  },
  {
   "cell_type": "code",
   "execution_count": 24,
   "id": "a85fe597",
   "metadata": {},
   "outputs": [],
   "source": [
    "#Divided the data into train_test and use 30% used for testing\n",
    "X_train,X_test,y_train,y_test=train_test_split(X,y,test_size=0.3,random_state=42)"
   ]
  },
  {
   "cell_type": "markdown",
   "id": "f697d895",
   "metadata": {},
   "source": [
    "# LogisticRegression"
   ]
  },
  {
   "cell_type": "code",
   "execution_count": 25,
   "id": "42abe4b1",
   "metadata": {},
   "outputs": [
    {
     "data": {
      "text/plain": [
       "LogisticRegression()"
      ]
     },
     "execution_count": 25,
     "metadata": {},
     "output_type": "execute_result"
    }
   ],
   "source": [
    "#Install the logisticregression model\n",
    "logistic=LogisticRegression()\n",
    "#Let's fit the train data\n",
    "logistic.fit(X_train,y_train)"
   ]
  },
  {
   "cell_type": "code",
   "execution_count": 26,
   "id": "66fb167e",
   "metadata": {},
   "outputs": [
    {
     "data": {
      "text/plain": [
       "array(['ham', 'ham', 'ham', ..., 'ham', 'ham', 'ham'], dtype=object)"
      ]
     },
     "execution_count": 26,
     "metadata": {},
     "output_type": "execute_result"
    }
   ],
   "source": [
    "#Prediction to the test data\n",
    "logistic_pred=logistic.predict(X_test)\n",
    "logistic_pred"
   ]
  },
  {
   "cell_type": "code",
   "execution_count": 27,
   "id": "7a859ea2",
   "metadata": {},
   "outputs": [
    {
     "name": "stdout",
     "output_type": "stream",
     "text": [
      "The Logisticregression model test score is 94.56\n",
      "The Logisticregression model train scores is 96.82\n",
      "The logisticRegression accuracy_score 94.56\n"
     ]
    }
   ],
   "source": [
    "#Check the test score and train score to the model\n",
    "print(f'The Logisticregression model test score is {logistic.score(X_test,y_test)*100:.2f}')\n",
    "#Train score for the data\n",
    "print(f'The Logisticregression model train scores is {logistic.score(X_train,y_train)*100:.2f}')\n",
    "#Check the accuracy_score to the model\n",
    "print(f'The logisticRegression accuracy_score {accuracy_score(y_test,logistic_pred)*100:.2f}')"
   ]
  },
  {
   "cell_type": "markdown",
   "id": "32790de2",
   "metadata": {},
   "source": [
    "## Classification_report and Confusion_matrix"
   ]
  },
  {
   "cell_type": "code",
   "execution_count": 28,
   "id": "844cc175",
   "metadata": {},
   "outputs": [
    {
     "name": "stdout",
     "output_type": "stream",
     "text": [
      "              precision    recall  f1-score   support\n",
      "\n",
      "         ham       0.94      1.00      0.97      1453\n",
      "        spam       0.97      0.60      0.74       219\n",
      "\n",
      "    accuracy                           0.95      1672\n",
      "   macro avg       0.96      0.80      0.86      1672\n",
      "weighted avg       0.95      0.95      0.94      1672\n",
      "\n"
     ]
    },
    {
     "data": {
      "text/plain": [
       "<AxesSubplot:>"
      ]
     },
     "execution_count": 28,
     "metadata": {},
     "output_type": "execute_result"
    },
    {
     "data": {
      "image/png": "[encoded data removed]",
      "text/plain": [
       "<Figure size 432x288 with 2 Axes>"
      ]
     },
     "metadata": {
      "needs_background": "light"
     },
     "output_type": "display_data"
    }
   ],
   "source": [
    "#Classification report\n",
    "print(classification_report(y_test,logistic_pred))\n",
    "#confusion_matrix\n",
    "cn=confusion_matrix(y_test,logistic_pred)\n",
    "sns.heatmap(cn,annot=True,cmap='cubehelix_r',xticklabels=['ham','spam'],yticklabels=['ham','spam'])"
   ]
  },
  {
   "cell_type": "markdown",
   "id": "999bee4b",
   "metadata": {},
   "source": [
    "# DecisionTreeClassifier"
   ]
  },
  {
   "cell_type": "code",
   "execution_count": 29,
   "id": "142fc6ed",
   "metadata": {},
   "outputs": [
    {
     "data": {
      "text/plain": [
       "DecisionTreeClassifier()"
      ]
     },
     "execution_count": 29,
     "metadata": {},
     "output_type": "execute_result"
    }
   ],
   "source": [
    "#Import the DecisionTreeClassifier from sklean library\n",
    "from sklearn.tree import DecisionTreeClassifier\n",
    "#install the library\n",
    "tree=DecisionTreeClassifier()\n",
    "#Fit the train data to the model\n",
    "tree.fit(X_train,y_train)"
   ]
  },
  {
   "cell_type": "code",
   "execution_count": 30,
   "id": "9fb94fed",
   "metadata": {},
   "outputs": [
    {
     "data": {
      "text/plain": [
       "array(['ham', 'ham', 'ham', ..., 'ham', 'ham', 'ham'], dtype=object)"
      ]
     },
     "execution_count": 30,
     "metadata": {},
     "output_type": "execute_result"
    }
   ],
   "source": [
    "#DecisionTreeClassifier Testdata prediction\n",
    "tree_pred=tree.predict(X_test)\n",
    "tree_pred"
   ]
  },
  {
   "cell_type": "code",
   "execution_count": 31,
   "id": "3b7a9707",
   "metadata": {},
   "outputs": [
    {
     "name": "stdout",
     "output_type": "stream",
     "text": [
      "The DecisionTreeClassifier model test score is 95.57\n",
      "The DecisionTreeClassifier model train scores is 100.00\n",
      "The DecisionTreeClassifier accuracy_score 95.57\n"
     ]
    }
   ],
   "source": [
    "#Check the test score and train score to the model\n",
    "print(f'The DecisionTreeClassifier model test score is {tree.score(X_test,y_test)*100:.2f}')\n",
    "#Train score for the data\n",
    "print(f'The DecisionTreeClassifier model train scores is {tree.score(X_train,y_train)*100:.2f}')\n",
    "#Check the accuracy_score to the model\n",
    "print(f'The DecisionTreeClassifier accuracy_score {accuracy_score(y_test,tree_pred)*100:.2f}')"
   ]
  },
  {
   "cell_type": "markdown",
   "id": "20fda823",
   "metadata": {},
   "source": [
    "## Classification_report and Confusion_matrix"
   ]
  },
  {
   "cell_type": "code",
   "execution_count": 32,
   "id": "aafc7f51",
   "metadata": {},
   "outputs": [
    {
     "name": "stdout",
     "output_type": "stream",
     "text": [
      "              precision    recall  f1-score   support\n",
      "\n",
      "         ham       0.97      0.98      0.97      1453\n",
      "        spam       0.84      0.81      0.83       219\n",
      "\n",
      "    accuracy                           0.96      1672\n",
      "   macro avg       0.91      0.90      0.90      1672\n",
      "weighted avg       0.96      0.96      0.96      1672\n",
      "\n"
     ]
    },
    {
     "data": {
      "text/plain": [
       "<AxesSubplot:>"
      ]
     },
     "execution_count": 32,
     "metadata": {},
     "output_type": "execute_result"
    },
    {
     "data": {
      "image/png": "[encoded data removed]",
      "text/plain": [
       "<Figure size 432x288 with 2 Axes>"
      ]
     },
     "metadata": {
      "needs_background": "light"
     },
     "output_type": "display_data"
    }
   ],
   "source": [
    "#Classification report\n",
    "print(classification_report(y_test,tree_pred))\n",
    "#confusion_matrix\n",
    "cn=confusion_matrix(y_test,tree_pred)\n",
    "sns.heatmap(cn,annot=True,cmap='coolwarm',xticklabels=['ham','spam'],yticklabels=['ham','spam'])"
   ]
  },
  {
   "cell_type": "markdown",
   "id": "3d6caabb",
   "metadata": {},
   "source": [
    "# RandomForestClassifier"
   ]
  },
  {
   "cell_type": "code",
   "execution_count": 33,
   "id": "89b30934",
   "metadata": {},
   "outputs": [
    {
     "data": {
      "text/plain": [
       "RandomForestClassifier()"
      ]
     },
     "execution_count": 33,
     "metadata": {},
     "output_type": "execute_result"
    }
   ],
   "source": [
    "#Import the RandomForestClassifier from the sklean library\n",
    "from sklearn.ensemble import RandomForestClassifier\n",
    "#install the RandomForestClassifier\n",
    "random=RandomForestClassifier()\n",
    "#Let's fit the traing data to the model\n",
    "random.fit(X_train,y_train)"
   ]
  },
  {
   "cell_type": "code",
   "execution_count": 34,
   "id": "ec1443cc",
   "metadata": {},
   "outputs": [
    {
     "data": {
      "text/plain": [
       "array(['ham', 'ham', 'ham', ..., 'ham', 'ham', 'ham'], dtype=object)"
      ]
     },
     "execution_count": 34,
     "metadata": {},
     "output_type": "execute_result"
    }
   ],
   "source": [
    "#RandomForestClassifier prediction to the test data\n",
    "random_pred=random.predict(X_test)\n",
    "random_pred"
   ]
  },
  {
   "cell_type": "code",
   "execution_count": 35,
   "id": "cee77efd",
   "metadata": {},
   "outputs": [
    {
     "name": "stdout",
     "output_type": "stream",
     "text": [
      "The RandomForestClassifier model test score is 97.31\n",
      "The RandomForestClassifier model train scores is 100.00\n",
      "The RandomForestClassifier accuracy_score 97.31\n"
     ]
    }
   ],
   "source": [
    "#Check the test score and train score to the model\n",
    "print(f'The RandomForestClassifier model test score is {random.score(X_test,y_test)*100:.2f}')\n",
    "#Train score for the data\n",
    "print(f'The RandomForestClassifier model train scores is {random.score(X_train,y_train)*100:.2f}')\n",
    "#Check the accuracy_score to the model\n",
    "print(f'The RandomForestClassifier accuracy_score {accuracy_score(y_test,random_pred)*100:.2f}')"
   ]
  },
  {
   "cell_type": "markdown",
   "id": "57ca9e86",
   "metadata": {},
   "source": [
    "## Classification_report and Confusion_matrix"
   ]
  },
  {
   "cell_type": "code",
   "execution_count": 36,
   "id": "e94d331b",
   "metadata": {},
   "outputs": [
    {
     "name": "stdout",
     "output_type": "stream",
     "text": [
      "              precision    recall  f1-score   support\n",
      "\n",
      "         ham       0.97      1.00      0.98      1453\n",
      "        spam       1.00      0.79      0.89       219\n",
      "\n",
      "    accuracy                           0.97      1672\n",
      "   macro avg       0.98      0.90      0.94      1672\n",
      "weighted avg       0.97      0.97      0.97      1672\n",
      "\n"
     ]
    },
    {
     "data": {
      "text/plain": [
       "<AxesSubplot:>"
      ]
     },
     "execution_count": 36,
     "metadata": {},
     "output_type": "execute_result"
    },
    {
     "data": {
      "image/png": "[encoded data removed]",
      "text/plain": [
       "<Figure size 432x288 with 2 Axes>"
      ]
     },
     "metadata": {
      "needs_background": "light"
     },
     "output_type": "display_data"
    }
   ],
   "source": [
    "#Classification report\n",
    "print(classification_report(y_test,random_pred))\n",
    "#confusion_matrix\n",
    "cn=confusion_matrix(y_test,random_pred)\n",
    "sns.heatmap(cn,annot=True,cmap='gist_yarg_r',xticklabels=['ham','spam'],yticklabels=['ham','spam'])"
   ]
  },
  {
   "cell_type": "markdown",
   "id": "94180f0e",
   "metadata": {},
   "source": [
    "# Bagging Classifier(SVC)"
   ]
  },
  {
   "cell_type": "code",
   "execution_count": 37,
   "id": "8987d590",
   "metadata": {},
   "outputs": [
    {
     "data": {
      "text/plain": [
       "BaggingClassifier(base_estimator=SVC())"
      ]
     },
     "execution_count": 37,
     "metadata": {},
     "output_type": "execute_result"
    }
   ],
   "source": [
    "#Import the SVC from the sklean library\n",
    "from sklearn.svm import SVC\n",
    "#Import the BaggingClassifier algorithm to train the our model\n",
    "from sklearn.ensemble import BaggingClassifier\n",
    "#Install the BaggingClassifier\n",
    "bgc=BaggingClassifier(base_estimator=SVC())\n",
    "#Let's fit the traning data to the model\n",
    "bgc.fit(X_train,y_train)"
   ]
  },
  {
   "cell_type": "code",
   "execution_count": 38,
   "id": "c9a1a57b",
   "metadata": {},
   "outputs": [
    {
     "data": {
      "text/plain": [
       "array(['ham', 'ham', 'ham', ..., 'ham', 'ham', 'ham'], dtype=object)"
      ]
     },
     "execution_count": 38,
     "metadata": {},
     "output_type": "execute_result"
    }
   ],
   "source": [
    "#BaggingClassifier prediction to the test dataset\n",
    "bgc_pred=bgc.predict(X_test)\n",
    "bgc_pred"
   ]
  },
  {
   "cell_type": "code",
   "execution_count": 39,
   "id": "c8b85163",
   "metadata": {},
   "outputs": [
    {
     "name": "stdout",
     "output_type": "stream",
     "text": [
      "The BaggingClassifier model test score is 96.17\n",
      "The BaggingClassifier model train scores is 99.03\n",
      "The BaggingClassifier accuracy_score 96.17\n"
     ]
    }
   ],
   "source": [
    "#Check the test score and train score to the model\n",
    "print(f'The BaggingClassifier model test score is {bgc.score(X_test,y_test)*100:.2f}')\n",
    "#Train score for the data\n",
    "print(f'The BaggingClassifier model train scores is {bgc.score(X_train,y_train)*100:.2f}')\n",
    "#Check the accuracy_score to the model\n",
    "print(f'The BaggingClassifier accuracy_score {accuracy_score(y_test,bgc_pred)*100:.2f}')"
   ]
  },
  {
   "cell_type": "markdown",
   "id": "ff541725",
   "metadata": {},
   "source": [
    "## Classification_report and Confusion_matrix"
   ]
  },
  {
   "cell_type": "code",
   "execution_count": 40,
   "id": "70169656",
   "metadata": {},
   "outputs": [
    {
     "name": "stdout",
     "output_type": "stream",
     "text": [
      "              precision    recall  f1-score   support\n",
      "\n",
      "         ham       0.96      1.00      0.98      1453\n",
      "        spam       0.99      0.72      0.83       219\n",
      "\n",
      "    accuracy                           0.96      1672\n",
      "   macro avg       0.97      0.86      0.90      1672\n",
      "weighted avg       0.96      0.96      0.96      1672\n",
      "\n"
     ]
    },
    {
     "data": {
      "text/plain": [
       "<AxesSubplot:>"
      ]
     },
     "execution_count": 40,
     "metadata": {},
     "output_type": "execute_result"
    },
    {
     "data": {
      "image/png": "[encoded data removed]",
      "text/plain": [
       "<Figure size 432x288 with 2 Axes>"
      ]
     },
     "metadata": {
      "needs_background": "light"
     },
     "output_type": "display_data"
    }
   ],
   "source": [
    "#Classification report\n",
    "print(classification_report(y_test,bgc_pred))\n",
    "#confusion_matrix\n",
    "cn=confusion_matrix(y_test,bgc_pred)\n",
    "sns.heatmap(cn,annot=True,cmap='cubehelix',xticklabels=['ham','spam'],yticklabels=['ham','spam'])"
   ]
  },
  {
   "cell_type": "markdown",
   "id": "48254de9",
   "metadata": {},
   "source": [
    "# XGBClassifier"
   ]
  },
  {
   "cell_type": "markdown",
   "id": "6bf2acb0",
   "metadata": {},
   "source": [
    "from sklearn.preprocessing import LabelEncoder\n",
    "le = LabelEncoder()\n",
    "y_train = le.fit_transform(y_train)"
   ]
  },
  {
   "cell_type": "markdown",
   "id": "60c2fe78",
   "metadata": {},
   "source": [
    "#Install the XGBClassifier from the xgboost\n",
    "from xgboost import XGBClassifier\n",
    "#Install the XGBClassifier\n",
    "xgb=XGBClassifier()\n",
    "#Let's fit the traning data to the model\n",
    "xgb.fit(X_train,y_train)"
   ]
  },
  {
   "cell_type": "markdown",
   "id": "f103bbaa",
   "metadata": {},
   "source": [
    "#XGBClassifier prediction to the test dataset\n",
    "xgb_pred=xgb.predict(X_test)\n",
    "xgb_pred"
   ]
  },
  {
   "cell_type": "markdown",
   "id": "568746b0",
   "metadata": {},
   "source": [
    "#Check the test score and train score to the model\n",
    "print(f'The XGBClassifier model test score is {xgb.score(X_test,y_test)*100:.2f}')\n",
    "#Train score for the data\n",
    "print(f'The XGBClassifier model train scores is {xgb.score(X_train,y_train)*100:.2f}')\n",
    "#Check the accuracy_score to the model\n",
    "print(f'The XGBClassifier accuracy_score {accuracy_score(y_test,xgb_pred)*100:.2f}')"
   ]
  },
  {
   "cell_type": "markdown",
   "id": "b70471e3",
   "metadata": {},
   "source": [
    "## Classification_report and Confusion_matrix"
   ]
  },
  {
   "cell_type": "markdown",
   "id": "c40692a6",
   "metadata": {},
   "source": [
    "#Classification report\n",
    "print(classification_report(y_test,xgb_pred))\n",
    "#confusion_matrix\n",
    "cn=confusion_matrix(y_test,xgb_pred)\n",
    "sns.heatmap(cn,annot=True,cmap='cubehelix',xticklabels=['ham','spam'],yticklabels=['ham','spam'])"
   ]
  },
  {
   "cell_type": "markdown",
   "id": "b9154a59",
   "metadata": {},
   "source": [
    "# MultinomialNB"
   ]
  },
  {
   "cell_type": "code",
   "execution_count": 41,
   "id": "6bb784ef",
   "metadata": {},
   "outputs": [
    {
     "data": {
      "text/plain": [
       "MultinomialNB()"
      ]
     },
     "execution_count": 41,
     "metadata": {},
     "output_type": "execute_result"
    }
   ],
   "source": [
    "#Import the MultinomialNB algorithm to train the our model\n",
    "from sklearn.naive_bayes import MultinomialNB\n",
    "#install the model\n",
    "multinomial=MultinomialNB()\n",
    "#fit the train data to our model\n",
    "multinomial.fit(X_train,y_train)"
   ]
  },
  {
   "cell_type": "code",
   "execution_count": 42,
   "id": "c3667c98",
   "metadata": {},
   "outputs": [
    {
     "data": {
      "text/plain": [
       "array(['ham', 'ham', 'ham', ..., 'ham', 'ham', 'ham'], dtype='<U4')"
      ]
     },
     "execution_count": 42,
     "metadata": {},
     "output_type": "execute_result"
    }
   ],
   "source": [
    "#MultinomialNB prediction to the test data\n",
    "multinomial_pred=multinomial.predict(X_test)\n",
    "multinomial_pred"
   ]
  },
  {
   "cell_type": "code",
   "execution_count": 43,
   "id": "e1981483",
   "metadata": {},
   "outputs": [
    {
     "name": "stdout",
     "output_type": "stream",
     "text": [
      "The MultinomialNB model test score is 95.22\n",
      "The MultinomialNB model train scores is 96.67\n",
      "The MultinomialNB accuracy_score 95.22\n"
     ]
    }
   ],
   "source": [
    "#Check the test score and train score to the model\n",
    "print(f'The MultinomialNB model test score is {multinomial.score(X_test,y_test)*100:.2f}')\n",
    "#Train score for the data\n",
    "print(f'The MultinomialNB model train scores is {multinomial.score(X_train,y_train)*100:.2f}')\n",
    "#Check the accuracy_score to the model\n",
    "print(f'The MultinomialNB accuracy_score {accuracy_score(y_test,multinomial_pred)*100:.2f}')"
   ]
  },
  {
   "cell_type": "markdown",
   "id": "6ce38e08",
   "metadata": {},
   "source": [
    "## Classification_report and Confusion_matrix"
   ]
  },
  {
   "cell_type": "code",
   "execution_count": 44,
   "id": "72862f49",
   "metadata": {},
   "outputs": [
    {
     "name": "stdout",
     "output_type": "stream",
     "text": [
      "              precision    recall  f1-score   support\n",
      "\n",
      "         ham       0.95      1.00      0.97      1453\n",
      "        spam       1.00      0.63      0.78       219\n",
      "\n",
      "    accuracy                           0.95      1672\n",
      "   macro avg       0.97      0.82      0.87      1672\n",
      "weighted avg       0.95      0.95      0.95      1672\n",
      "\n"
     ]
    },
    {
     "data": {
      "text/plain": [
       "<AxesSubplot:>"
      ]
     },
     "execution_count": 44,
     "metadata": {},
     "output_type": "execute_result"
    },
    {
     "data": {
      "image/png": "[encoded data removed]",
      "text/plain": [
       "<Figure size 432x288 with 2 Axes>"
      ]
     },
     "metadata": {
      "needs_background": "light"
     },
     "output_type": "display_data"
    }
   ],
   "source": [
    "#Classification report\n",
    "print(classification_report(y_test,multinomial_pred))\n",
    "#confusion_matrix\n",
    "cn=confusion_matrix(y_test,multinomial_pred)\n",
    "sns.heatmap(cn,annot=True,cmap='gnuplot2_r',xticklabels=['ham','spam'],yticklabels=['ham','spam'])"
   ]
  },
  {
   "cell_type": "markdown",
   "id": "7797da40",
   "metadata": {},
   "source": [
    "# AdaBoostClassifier"
   ]
  },
  {
   "cell_type": "code",
   "execution_count": 45,
   "id": "bfdc9968",
   "metadata": {},
   "outputs": [
    {
     "data": {
      "text/plain": [
       "AdaBoostClassifier()"
      ]
     },
     "execution_count": 45,
     "metadata": {},
     "output_type": "execute_result"
    }
   ],
   "source": [
    "#Import the AdaBoostClassifier from sklearn library\n",
    "from sklearn.ensemble import AdaBoostClassifier\n",
    "#Install the model\n",
    "adam=AdaBoostClassifier()\n",
    "#Fit the traiing data to the model\n",
    "adam.fit(X_train,y_train)"
   ]
  },
  {
   "cell_type": "code",
   "execution_count": 46,
   "id": "91d1a0ef",
   "metadata": {},
   "outputs": [
    {
     "data": {
      "text/plain": [
       "array(['ham', 'ham', 'ham', ..., 'ham', 'ham', 'ham'], dtype=object)"
      ]
     },
     "execution_count": 46,
     "metadata": {},
     "output_type": "execute_result"
    }
   ],
   "source": [
    "#AdaBoostClassifier prediction to the dataset\n",
    "adam_pred=adam.predict(X_test)\n",
    "adam_pred"
   ]
  },
  {
   "cell_type": "code",
   "execution_count": 47,
   "id": "0aa31c6c",
   "metadata": {},
   "outputs": [
    {
     "name": "stdout",
     "output_type": "stream",
     "text": [
      "The AdaBoostClassifier model test score is 95.10\n",
      "The AdaBoostClassifier model train scores is 97.41\n",
      "The AdaBoostClassifier accuracy_score 95.10\n"
     ]
    }
   ],
   "source": [
    "#Check the test score and train score to the model\n",
    "print(f'The AdaBoostClassifier model test score is {adam.score(X_test,y_test)*100:.2f}')\n",
    "#Train score for the data\n",
    "print(f'The AdaBoostClassifier model train scores is {adam.score(X_train,y_train)*100:.2f}')\n",
    "#Check the accuracy_score to the model\n",
    "print(f'The AdaBoostClassifier accuracy_score {accuracy_score(y_test,adam_pred)*100:.2f}')"
   ]
  },
  {
   "cell_type": "markdown",
   "id": "83a2b457",
   "metadata": {},
   "source": [
    "## Classification_report and Confusion_matrix"
   ]
  },
  {
   "cell_type": "code",
   "execution_count": 48,
   "id": "8bfb217f",
   "metadata": {},
   "outputs": [
    {
     "name": "stdout",
     "output_type": "stream",
     "text": [
      "              precision    recall  f1-score   support\n",
      "\n",
      "         ham       0.96      0.99      0.97      1453\n",
      "        spam       0.90      0.70      0.79       219\n",
      "\n",
      "    accuracy                           0.95      1672\n",
      "   macro avg       0.93      0.85      0.88      1672\n",
      "weighted avg       0.95      0.95      0.95      1672\n",
      "\n"
     ]
    },
    {
     "data": {
      "text/plain": [
       "<AxesSubplot:>"
      ]
     },
     "execution_count": 48,
     "metadata": {},
     "output_type": "execute_result"
    },
    {
     "data": {
      "image/png": "[encoded data removed]",
      "text/plain": [
       "<Figure size 432x288 with 2 Axes>"
      ]
     },
     "metadata": {
      "needs_background": "light"
     },
     "output_type": "display_data"
    }
   ],
   "source": [
    "#Classification report\n",
    "print(classification_report(y_test,adam_pred))\n",
    "#confusion_matrix\n",
    "cn=confusion_matrix(y_test,adam_pred)\n",
    "sns.heatmap(cn,annot=True,cmap='tab10_r',xticklabels=['ham','spam'],yticklabels=['ham','spam'])"
   ]
  },
  {
   "cell_type": "markdown",
   "id": "53e3d2d9",
   "metadata": {},
   "source": [
    "# About the data Classification reports:\n",
    "### After observing the above classification report we find that, RandomForestClassifier gives 97% accuracy_score, BaggingClassifier gives 96% accuracy_score and the remaing models give 95% accuracy_score."
   ]
  },
  {
   "cell_type": "markdown",
   "id": "4dd223c7",
   "metadata": {},
   "source": [
    "# How to perfom the our model to the data"
   ]
  },
  {
   "cell_type": "code",
   "execution_count": 49,
   "id": "d3b8d152",
   "metadata": {},
   "outputs": [
    {
     "data": {
      "text/plain": [
       "'The email is spam'"
      ]
     },
     "execution_count": 49,
     "metadata": {},
     "output_type": "execute_result"
    }
   ],
   "source": [
    "text=\"WINNER as value network customer select receivea å£ prize reward to claim call Claim code KL Valid hour\"\n",
    "text=[text]\n",
    "text_int=vector.transform(text)\n",
    "prediction=logistic.predict(text_int)\n",
    "f\"The email is {prediction[0]}\""
   ]
  },
  {
   "cell_type": "code",
   "execution_count": 50,
   "id": "c806c971",
   "metadata": {},
   "outputs": [
    {
     "data": {
      "text/plain": [
       "'The email is spam'"
      ]
     },
     "execution_count": 50,
     "metadata": {},
     "output_type": "execute_result"
    }
   ],
   "source": [
    "text=\"free entry wkly comp win FA Cup final tkts st May Text FA receive entry questionstd txt ratetcs apply over\"\n",
    "text=[text]\n",
    "text_int=vector.transform(text)\n",
    "prediction=tree.predict(text_int)\n",
    "f\"The email is {prediction[0]}\""
   ]
  },
  {
   "cell_type": "code",
   "execution_count": 51,
   "id": "4e945c6b",
   "metadata": {},
   "outputs": [
    {
     "data": {
      "text/plain": [
       "'The email is ham'"
      ]
     },
     "execution_count": 51,
     "metadata": {},
     "output_type": "execute_result"
    }
   ],
   "source": [
    "text=\"go jurong point crazy Available bugis n great world la e buffet Cine get amore wat\"\n",
    "text=[text]\n",
    "text_int=vector.transform(text)\n",
    "prediction=random.predict(text_int)\n",
    "f\"The email is {prediction[0]}\""
   ]
  },
  {
   "cell_type": "code",
   "execution_count": 52,
   "id": "6e050e79",
   "metadata": {},
   "outputs": [
    {
     "data": {
      "text/plain": [
       "'The email is ham'"
      ]
     },
     "execution_count": 52,
     "metadata": {},
     "output_type": "execute_result"
    }
   ],
   "source": [
    "text='I m go to home soon do not want talk stuff anymore tonight k I ve cry enough today'\n",
    "text=[text]\n",
    "text_int=vector.transform(text)\n",
    "prediction=bgc.predict(text_int)\n",
    "f\"The email is {prediction[0]}\""
   ]
  },
  {
   "cell_type": "code",
   "execution_count": 53,
   "id": "4338621c",
   "metadata": {},
   "outputs": [
    {
     "data": {
      "text/plain": [
       "'The email is spam'"
      ]
     },
     "execution_count": 53,
     "metadata": {},
     "output_type": "execute_result"
    }
   ],
   "source": [
    "text='WINNER as value network customer select receivea å£ prize reward to claim call Claim code KL Valid hour'\n",
    "text=[text]\n",
    "text_int=vector.transform(text)\n",
    "prediction=multinomial.predict(text_int)\n",
    "f\"The email is {prediction[0]}\""
   ]
  },
  {
   "cell_type": "code",
   "execution_count": 54,
   "id": "183768b8",
   "metadata": {},
   "outputs": [
    {
     "data": {
      "text/plain": [
       "'The email is spam'"
      ]
     },
     "execution_count": 54,
     "metadata": {},
     "output_type": "execute_result"
    }
   ],
   "source": [
    "text='have mobile month U r entitle Update late colour mobile camera Free Call the Mobile Update Co FREE'\n",
    "text=[text]\n",
    "text_int=vector.transform(text)\n",
    "prediction=random.predict(text_int)\n",
    "f\"The email is {prediction[0]}\""
   ]
  },
  {
   "cell_type": "markdown",
   "id": "548b37e3",
   "metadata": {},
   "source": [
    "# CONCLUSION"
   ]
  },
  {
   "cell_type": "markdown",
   "id": "449ff5e8",
   "metadata": {},
   "source": [
    "### The model is used to predict weather the email is a SPAM or a HAM. The Data preprocessing applied is Cleaning and EDA on data. Then applied different machine learning models and checked the accuracy. For our data all the ML models are performing well and Random Forest is providing with Highest Accuracy."
   ]
  }
 ],
 "metadata": {
  "kernelspec": {
   "display_name": "Python 3 (ipykernel)",
   "language": "python",
   "name": "python3"
  },
  "language_info": {
   "codemirror_mode": {
    "name": "ipython",
    "version": 3
   },
   "file_extension": ".py",
   "mimetype": "text/x-python",
   "name": "python",
   "nbconvert_exporter": "python",
   "pygments_lexer": "ipython3",
   "version": "3.9.7"
  }
 },
 "nbformat": 4,
 "nbformat_minor": 5
}
